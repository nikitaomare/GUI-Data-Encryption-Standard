{
 "cells": [
  {
   "cell_type": "code",
   "execution_count": 1,
   "metadata": {},
   "outputs": [],
   "source": [
    "import string\n",
    "import tkinter as tk\n",
    "from tkinter import ttk # a advanced module for better\n",
    "import tkinter.font as font"
   ]
  },
  {
   "cell_type": "code",
   "execution_count": 2,
   "metadata": {},
   "outputs": [],
   "source": [
    "def encrypt(text):\n",
    "    text=text.lower()\n",
    "    d=dict(zip(string.ascii_lowercase,string.ascii_uppercase[::-1]))\n",
    "    cipher=''\n",
    "    l=[]\n",
    "    for i in text:\n",
    "        if(i.isalpha()):\n",
    "             l.append(d[i])\n",
    "        else:\n",
    "            l.append(i) \n",
    "    l=\"\".join(l)\n",
    "    return l\n",
    "def decrypt(text):\n",
    "    text=text.upper()\n",
    "    d=dict(zip(string.ascii_uppercase[::-1],string.ascii_lowercase,))\n",
    "    cipher=''\n",
    "    l=[]\n",
    "    for i in text:\n",
    "        if(i.isalpha()):\n",
    "             l.append(d[i])\n",
    "        else:\n",
    "            l.append(i) \n",
    "    l=\"\".join(l)\n",
    "    return l"
   ]
  },
  {
   "cell_type": "code",
   "execution_count": 4,
   "metadata": {},
   "outputs": [],
   "source": [
    "window=tk.Tk()\n",
    "\n",
    "window.title(\"Secret message\")\n",
    "#CREATING LABELS\n",
    "label2=ttk.Label(window,text='Welcome To The Application',font=25)\n",
    "#label2.grid(row=0,column=0,sticky=tk.W)\n",
    "label2.pack()\n",
    "myfont=font.Font(weight='bold')\n",
    "label2['font']=myfont\n",
    "\n",
    "\n",
    "#CREATING ENTRY BOXES\n",
    "#for encrypt\n",
    "label=ttk.Label(window,text='Enter your plaintext here to convert into cyphertext',font=20)\n",
    "label.pack()\n",
    "label.place(y=50,x=20)\n",
    "plain_text=tk.StringVar()\n",
    "entry_plain=ttk.Entry(window,width=70,textvariable=plain_text)\n",
    "entry_plain.pack()\n",
    "entry_plain.place( height=200, width=700,y=70,x=20)\n",
    "\n",
    "\n",
    "#for decypher\n",
    "label=ttk.Label(window,text='Enter your cyphertext here to convert into plaintext',font=20)\n",
    "label.pack()\n",
    "label.place(y=50,x=800)\n",
    "cypher_text=tk.StringVar()\n",
    "entry_plain2=ttk.Entry(window,width=70,textvariable=cypher_text)\n",
    "entry_plain2.pack()\n",
    "entry_plain2.place( height=200, width=700,y=70,x=800)\n",
    "#output box\n",
    "label=ttk.Label(window,text='Answer',font=20)\n",
    "label.pack()\n",
    "label.place(y=450,x=20)\n",
    "answer=ttk.Entry(window,width=70)\n",
    "answer.pack()\n",
    "answer.place( height=100, width=1200,y=500,x=20)\n",
    "#Create function\n",
    "def ency_fun():\n",
    "        l=encrypt(plain_text.get())\n",
    "        answer.delete(0,tk.END)\n",
    "        answer.insert(tk.END,l)\n",
    "def deci_fun():\n",
    "        l=decrypt(cypher_text.get())\n",
    "        answer.delete(0,tk.END)\n",
    "        answer.insert(tk.END,l)\n",
    "#create button\n",
    "ency_button=tk.Button(window,text='Encypher',command=ency_fun,bg='black',fg='white',font=10)\n",
    "deci_button=tk.Button(window,text='Decipher',command=deci_fun,bg='red',fg='white',font=10)\n",
    "\n",
    "ency_button.pack()\n",
    "ency_button.place(y=300,x=20)\n",
    "deci_button.pack()\n",
    "deci_button.place(y=300,x=800)\n",
    "window.mainloop()"
   ]
  },
  {
   "cell_type": "code",
   "execution_count": null,
   "metadata": {},
   "outputs": [],
   "source": []
  },
  {
   "cell_type": "code",
   "execution_count": null,
   "metadata": {},
   "outputs": [],
   "source": []
  },
  {
   "cell_type": "code",
   "execution_count": null,
   "metadata": {},
   "outputs": [],
   "source": []
  }
 ],
 "metadata": {
  "kernelspec": {
   "display_name": "Python 3",
   "language": "python",
   "name": "python3"
  },
  "language_info": {
   "codemirror_mode": {
    "name": "ipython",
    "version": 3
   },
   "file_extension": ".py",
   "mimetype": "text/x-python",
   "name": "python",
   "nbconvert_exporter": "python",
   "pygments_lexer": "ipython3",
   "version": "3.6.7"
  }
 },
 "nbformat": 4,
 "nbformat_minor": 2
}
